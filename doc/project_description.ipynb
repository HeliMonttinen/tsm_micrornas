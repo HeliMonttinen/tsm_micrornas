{
 "cells": [
  {
   "cell_type": "markdown",
   "id": "a000a41e-eac7-4c5f-aba1-9ead65824101",
   "metadata": {
    "tags": []
   },
   "source": [
    "## Identification of TSMs within human microRNA genes"
   ]
  },
  {
   "cell_type": "markdown",
   "id": "5a835163-059c-4840-94c9-b32d8b267a76",
   "metadata": {},
   "source": [
    "A retrieval of the corresponding sequences to human microRNAs from other mammalian genomes. Coordinates are from the downloaded mirbase and .maf alignments for 99 vertebrates from the UCSC database (https://hgdownload.soe.ucsc.edu/goldenPath/hg38/multiz100way/maf/; the last modified in 6th of March 2015). The species file edited from   http://hgdownload.cse.ucsc.edu/goldenPath/hg38/multiz100way/README.txt. The retrieved combined sequences have to be at least 30 bp long and be 80% identical with some other sequence in minimum (species outside human)."
   ]
  },
  {
   "cell_type": "code",
   "execution_count": null,
   "id": "200c0315-2c3e-4248-ad3d-4994b2ea1080",
   "metadata": {},
   "outputs": [],
   "source": [
    "python3 scripts/python/main/download_maf_alignment.py data/210420_microRNAs_loc.txt data/species_mammals.txt data/chr/  results/ucsc_seq/ results/maf_sequence/ results/sequence_info/"
   ]
  },
  {
   "cell_type": "markdown",
   "id": "bf90fdcf-a793-4bfe-a16d-2d4dc44d874d",
   "metadata": {},
   "source": [
    "Convert gzip genome files to bgzip files."
   ]
  },
  {
   "cell_type": "code",
   "execution_count": null,
   "id": "0444dcc3-c952-4498-a957-65caf8875526",
   "metadata": {},
   "outputs": [],
   "source": [
    "bash scripts/bash/bgzip.sh"
   ]
  },
  {
   "cell_type": "markdown",
   "id": "abdd4dc2-e152-4f1a-a2d6-6671267d7769",
   "metadata": {},
   "source": [
    "Index genome files."
   ]
  },
  {
   "cell_type": "code",
   "execution_count": null,
   "id": "f45394f2-72a4-4738-b1b2-4cb4b901bdd5",
   "metadata": {},
   "outputs": [],
   "source": [
    "bash scripts/bash/faidx.sh"
   ]
  },
  {
   "cell_type": "markdown",
   "id": "1f626519-559a-4213-979e-25075d30db29",
   "metadata": {},
   "source": [
    "As .maf alignments are presented as synteny blocks - not continuous sequences - the continuous sequences are extracted for microRNA loci based on the starting and ending coordinates. Additional 50 bases are added to both ends. "
   ]
  },
  {
   "cell_type": "code",
   "execution_count": null,
   "id": "71d1094b-2f79-493f-92df-dfa870577f78",
   "metadata": {},
   "outputs": [],
   "source": [
    "python3 scripts/python/main/continuous_sequences.py results/ucsc_seq/ data/species_mammals.txt results/sequence_info/"
   ]
  },
  {
   "cell_type": "markdown",
   "id": "7d1ad6f4-0088-49fa-9bd9-9b4c1e3eb9f4",
   "metadata": {},
   "source": [
    "The nodes in the given phylogenetic tree need to be renamed to match headers in fasta sequence files. A separate tree file is created for every alignment file."
   ]
  },
  {
   "cell_type": "code",
   "execution_count": null,
   "id": "726459f0-5520-42a1-8208-46d7c51f5612",
   "metadata": {},
   "outputs": [],
   "source": [
    "mkdir results/alignments1\n",
    "python3 scripts/python/main/rename.py data/species_tree.tree results/mafseqs_full/ results/alignments1/ results/alignments1/"
   ]
  },
  {
   "cell_type": "markdown",
   "id": "773d2e01-a913-49f4-8b20-5460dce33646",
   "metadata": {},
   "source": [
    "Align the sequences and remove those taxa from the tree that are not present in the alignment file. The script is run in parallel."
   ]
  },
  {
   "cell_type": "code",
   "execution_count": null,
   "id": "4fa6a90f-af35-4b0e-a72a-3987623d7c19",
   "metadata": {
    "tags": []
   },
   "outputs": [],
   "source": [
    "bash scripts/bash/run_alignments1.sh"
   ]
  },
  {
   "cell_type": "markdown",
   "id": "d07fb28a-13c9-424c-9950-bb6433a5e1b8",
   "metadata": {},
   "source": [
    "Go through alignments and remove sequences that are very diverse compared to the other sequences. Sequences are left-out if 1) they are more than 1.3 times longer than the human sequence, 2) they contain ten or more Ns in row, or 3) their sequence identity to human is <50% or <60% when using, respectively, the human and the target sequence as the reference. "
   ]
  },
  {
   "cell_type": "code",
   "execution_count": null,
   "id": "09aefd53-358f-4412-9d1c-4d4740d73345",
   "metadata": {},
   "outputs": [],
   "source": [
    "mkdir results/alignments2\n",
    "python3 scripts/python/main/clean_and_copy_seqs.py results/alignments2/ results/alignments1/ data/210420_microRNAs_loc.txt"
   ]
  },
  {
   "cell_type": "markdown",
   "id": "cc16ffeb-3eb0-4311-b7a0-f734d5331d74",
   "metadata": {},
   "source": [
    "Realign the cleaned preliminary alignments, remove unnecessary branches from trees, and infer ancestral sequences for each alignment."
   ]
  },
  {
   "cell_type": "code",
   "execution_count": null,
   "id": "95ed8949-bd5d-4f06-8aa6-0afea62a8af3",
   "metadata": {},
   "outputs": [],
   "source": [
    "bash scripts/bash/alignments2.sh"
   ]
  },
  {
   "cell_type": "markdown",
   "id": "53b9bd98-90c1-4726-b9a8-d47e3b779ff3",
   "metadata": {},
   "source": [
    "Identify TSM patterns by running fpatool for all alignments2/*_pagan.fas files. The script systematically traverses trees and returns each parent-child node pair. TSMs are identified between these pairs by running fpa. The target and source TSMs have to share at least 80% sequence identity and the TSM solution has to be better than the standard forward solution. The minimum number for mismatches in a mutation cluster is five and minimum length is 15.\n"
   ]
  },
  {
   "cell_type": "code",
   "execution_count": null,
   "id": "151ca482-7aa0-485c-8957-187e589bc66a",
   "metadata": {},
   "outputs": [],
   "source": [
    "mkdir results/fpa_microRNA\n",
    "bash scripts/bash/run_fpa_microRNA.sh"
   ]
  },
  {
   "cell_type": "markdown",
   "id": "37a91681-fa48-414d-b54f-d8102f342ea8",
   "metadata": {},
   "source": [
    "Run a quality control for identified TSMs, collect information and save TSM cases into a mongo database. The fpa solution alignments are saved into the directory results/fpa_solutions/, so that file names correspond to the Ensembl identifier. The manually edited alignments are saved in fpa_solution_pub. \n",
    "The quality control is run between the target regions of reference-sister (80%), reference-great grand-parent (80%) and great grand-parent -reference sister nodes (70%). The quality control for the source regions of query-reference (80% seq identity), reference-great grandparent (70% id), reference-sister (80% id), great grand-parent-reference  sister nodes (70%). Also, if the query node has children, the target regions between query and child nodes are compared (id80%) to ensure the heritance of the TSM pattern."
   ]
  },
  {
   "cell_type": "code",
   "execution_count": null,
   "id": "ffaa1a96-41a8-4384-9cc6-12e985e64641",
   "metadata": {},
   "outputs": [],
   "source": [
    "mkdir results/fpa_solutions/\n",
    "python3 scripts/python/main/TSM_information_microRNAs.py ./results/fpa_microRNA/ TSMs_microRNA ./results/alignments2/ ./results/alignments2/ ./data/210420_microRNAs_loc.txt ./results/fpa_solutions/"
   ]
  },
  {
   "cell_type": "markdown",
   "id": "f15be53a-778d-4d15-ad2c-32c73497681f",
   "metadata": {},
   "source": [
    "Secondary structure predictions for all the studied node sequences with RNAfold."
   ]
  },
  {
   "cell_type": "code",
   "execution_count": null,
   "id": "254c12f1-ba0a-4ee0-b3bc-5e6c385e5462",
   "metadata": {},
   "outputs": [],
   "source": [
    "python3 scripts/python/main/predict_structures.py results/alignments2/ results/structures/"
   ]
  },
  {
   "cell_type": "markdown",
   "id": "64714ad5-9446-4a53-b3a5-d095d0edd05a",
   "metadata": {},
   "source": [
    "Draw TSM cases in microRNAs, which are at least 15 bases long and contain 5 or more mismatches."
   ]
  },
  {
   "cell_type": "code",
   "execution_count": null,
   "id": "017711cf-113c-426c-b27d-55ca79bda1b1",
   "metadata": {},
   "outputs": [],
   "source": [
    "python3 scripts/python/main/draw_figs.py results/figs/ TSMs_microRNA results/alignments2/ results/alignments2/ results/structures/ data/210420_microRNAs_loc.txt data/microRNA_products.txt"
   ]
  },
  {
   "cell_type": "markdown",
   "id": "90859fa6-0906-461f-a64f-dbcd947afd99",
   "metadata": {},
   "source": [
    "Collect information on microRNAs (location in relation to genes) from .gff3 file."
   ]
  },
  {
   "cell_type": "code",
   "execution_count": null,
   "id": "ba303c78-699e-4012-a2a4-cc93399bd37c",
   "metadata": {},
   "outputs": [],
   "source": [
    "python3 scripts/python/main/microRNA_gene_context.py data/TSM_microRNAs.txt data/Homo_sapiens.GRCh38.105.gff3 >& data/microRNA_genetic_context.txt"
   ]
  },
  {
   "cell_type": "markdown",
   "id": "78119785-ce3c-4242-a774-c7c733c3d9c7",
   "metadata": {},
   "source": [
    "Collect information for microRNAs. The TSms were manually checked and edited. The manually edited TSM list is saved to a file results/TSM_expl_in_microRNAs.txt"
   ]
  },
  {
   "cell_type": "code",
   "execution_count": null,
   "id": "563921ea-bfc3-4f1f-ba80-bed30871e779",
   "metadata": {},
   "outputs": [],
   "source": [
    "python3 scripts/python/main/collect_TSM_microRNA_info.py data/miRNA.dat data/210420_microRNAs_loc.txt results/TSMs_in_microRNA.txt TSMs_microRNA data/microRNA_genetic_context.txt"
   ]
  },
  {
   "cell_type": "markdown",
   "id": "c3f41cbf-b9d7-4e65-b305-9133395c66d7",
   "metadata": {},
   "source": [
    "Figures from secondary structures using RNAplot. The TSM target and source sites are colored."
   ]
  },
  {
   "cell_type": "code",
   "execution_count": null,
   "id": "65695fc1-13b7-4288-a0b1-f51e16c9a803",
   "metadata": {},
   "outputs": [],
   "source": [
    "python3 scripts/python/main/draw_structures.py results/struct_figs/ results/structures/ TSMs_microRNA results/alignments2/"
   ]
  },
  {
   "cell_type": "markdown",
   "id": "f7b0ce03-b820-4416-8582-aef0a868bedf",
   "metadata": {},
   "source": [
    "Count how many of microRNA loci are primate-specific (in maximum 90% identical sequence to human microRNA sequence) and how many of TSM-origin microRNA loci have acquired mutations after emergence."
   ]
  },
  {
   "cell_type": "code",
   "execution_count": null,
   "id": "8cc150a0-2d7f-42be-905b-5fe7e3ebcd03",
   "metadata": {},
   "outputs": [],
   "source": [
    "python3 scripts/python/main/primate_specific_microRNAs.py data/210420_microRNAs_loc.txt results/TSM_expl_in_microRNAs.txt results/alignments2/ TSMs_microRNA"
   ]
  },
  {
   "cell_type": "markdown",
   "id": "b92960dd-b76b-4d5f-beb1-e42cae55a11b",
   "metadata": {},
   "source": [
    " "
   ]
  },
  {
   "cell_type": "markdown",
   "id": "379788e6-3251-4ba7-b337-9aeb8bbd3db8",
   "metadata": {},
   "source": [
    "\n",
    "#### Create alignment for hsa-mir-7856 including the upstream LINE2 insertion"
   ]
  },
  {
   "cell_type": "markdown",
   "id": "e8d40e32-5314-4a3d-91e2-0eb11f10b7ff",
   "metadata": {
    "tags": []
   },
   "source": [
    "We wanted to know the genomic context around the microRNA locus including LINE2 insertion, the criteria used for other microRNAs were not suitable."
   ]
  },
  {
   "cell_type": "markdown",
   "id": "ada843ad-4169-48db-91e1-2aa9cf45ac75",
   "metadata": {
    "tags": []
   },
   "source": [
    "Download a sequence"
   ]
  },
  {
   "cell_type": "code",
   "execution_count": null,
   "id": "2fd372b5-60b0-4e24-896a-660bc3a8eff1",
   "metadata": {},
   "outputs": [],
   "source": [
    "python3 scripts/python/main/download_maf_alignment_hsa_mir_7856.py data/210420_microRNAs_loc.txt data/species_mammals.txt data/chr/ results/ucsc_seq_hsa_mir_7856/  results/maf_sequence_hsa_mir_7856/ results/sequence_info_hsa_mir_7856/"
   ]
  },
  {
   "cell_type": "markdown",
   "id": "09233e86-38c5-4172-b3ae-5bc075366bac",
   "metadata": {},
   "source": [
    "Get the full length sequence"
   ]
  },
  {
   "cell_type": "code",
   "execution_count": null,
   "id": "3fa19629-b68f-4d90-80d0-d7d3a805ffea",
   "metadata": {},
   "outputs": [],
   "source": [
    "python3 scripts/python/main/continuous_sequences_hsa_mir_7856.py results/ucsc_seq_hsa_mir_605/ data/species_mammals.txt results/sequence_info_hsa_mir_605/"
   ]
  },
  {
   "cell_type": "markdown",
   "id": "799499c6-67f3-42e5-aa83-b7aca51f2bbe",
   "metadata": {},
   "source": [
    "Rename tree nodes"
   ]
  },
  {
   "cell_type": "code",
   "execution_count": null,
   "id": "5cafe1b7-2ade-484c-b16a-8fabd47d434b",
   "metadata": {},
   "outputs": [],
   "source": [
    "python3 scripts/python/main/rename.py data/species_tree.tree results/maf_sequence_full_hsa_mir_7856/ results/alignments1_hsa_mir_7856/ results/alignments1_hsa_mir_7856/"
   ]
  },
  {
   "cell_type": "markdown",
   "id": "3500ae72-0455-431e-99ec-e35098d72561",
   "metadata": {},
   "source": [
    "Align sequences. Sequence set was manually edited, so that only primates were left. Pongo abelii and *Chlorocebus sabateus* were removed as the first one likely aligned with some other LINE and *Chlorocebus sabaeus* was very short. "
   ]
  },
  {
   "cell_type": "code",
   "execution_count": null,
   "id": "c0144e79-76e9-48ca-a7da-2cd8f01737ab",
   "metadata": {},
   "outputs": [],
   "source": [
    "python3 scripts/python/main/alignments1.py results/alignments1_hsa_mir_7856/ results/alignments1_hsa_mir_7856/ results/alignments1_hsa_mir_7856/ ENSG00000278281"
   ]
  },
  {
   "cell_type": "markdown",
   "id": "f8a399be-6238-421b-8202-f8bebffd9de2",
   "metadata": {},
   "source": [
    "The alignment was cut from sites 59 and 2944. The sequence between these was analysed."
   ]
  },
  {
   "cell_type": "code",
   "execution_count": null,
   "id": "b54fee57-ba49-4290-a7df-09e6b5032baf",
   "metadata": {},
   "outputs": [],
   "source": [
    "python3 scripts/python/main/run_fpa.py ENSG00000278281 results/fpa_hsa_mir_7856/ results/alignments2_hsa_mir_7856/ results/alignments2_hsa_mir_7856/"
   ]
  },
  {
   "cell_type": "markdown",
   "id": "fb0004ba-ab8f-44c0-8202-5960ab95dc6c",
   "metadata": {},
   "source": [
    "Predict secondary structures."
   ]
  },
  {
   "cell_type": "code",
   "execution_count": null,
   "id": "1486f844-9836-4785-8a16-575bac7f6029",
   "metadata": {},
   "outputs": [],
   "source": [
    "python3 scripts/python/main/predict_structures.py results/alignments2_hsa_mir_7856/ results/structures_hsa_mir_7856/"
   ]
  },
  {
   "cell_type": "markdown",
   "id": "6685954a-a0ca-4fb5-8967-45651d845c35",
   "metadata": {},
   "source": [
    "Draw figure."
   ]
  },
  {
   "cell_type": "code",
   "execution_count": null,
   "id": "92763afa-55d5-4e7e-a9a1-e8e94ea7506c",
   "metadata": {},
   "outputs": [],
   "source": [
    "python scripts/python/main/draw_figs_from_database_hsa_mir_7856.py results/fig_hsa_mir_7856/ results/alignments2_hsa_mir_7856/ results/alignments2_hsa_mir_7856/ results/structures_hsa_mir_7856/ data/210420_microRNAs_loc.txt data/microRNA_products.txt"
   ]
  },
  {
   "cell_type": "markdown",
   "id": "ed79646b-adcd-4a0e-b61e-3d57cafb2ec9",
   "metadata": {},
   "source": [
    " "
   ]
  },
  {
   "cell_type": "markdown",
   "id": "9967252e-bfe7-4c29-8591-deec9055235b",
   "metadata": {
    "tags": []
   },
   "source": [
    "#### Create alignment for hsa-mir-605"
   ]
  },
  {
   "cell_type": "markdown",
   "id": "beaaf33b-3538-4af3-a51a-350d15cbcb39",
   "metadata": {},
   "source": [
    "Download sequences. As the hsa-mir-605 has a long insertion next to a microRNA locus, we take more genomic context than 50 bases."
   ]
  },
  {
   "cell_type": "code",
   "execution_count": null,
   "id": "f3c106f8-23d3-4cf3-81ce-1ca73079b5c8",
   "metadata": {},
   "outputs": [],
   "source": [
    "python3 scripts/python/main/download_maf_alignment_hsa_mir_605.py data/210420_microRNAs_loc.txt data/species_mammals.txt data/chr/ results/ucsc_seq_hsa_mir_605/  results/maf_sequence_hsa_mir_605/ results/sequence_info_hsa_mir_605/"
   ]
  },
  {
   "cell_type": "markdown",
   "id": "c96eba04-7831-4f25-8436-a01da44d783b",
   "metadata": {},
   "source": [
    "Get continuous sequences"
   ]
  },
  {
   "cell_type": "code",
   "execution_count": null,
   "id": "8794a961-96a7-42a0-bc0a-e092fbc9b817",
   "metadata": {},
   "outputs": [],
   "source": [
    "python3 scripts/python/main/continuous_sequences_hsa_mir_605.py results/ucsc_seq_hsa_mir_605/ data/species_mammals.txt results/sequence_info_hsa_mir_605/"
   ]
  },
  {
   "cell_type": "markdown",
   "id": "70a10913-4392-421b-a118-6dfa637373ed",
   "metadata": {},
   "source": [
    "Rename tree nodes. Sequences *Otolemur garnettii*, *Heterocephalus glaber*, *Bos taurus*, *Eptesicus fuscus*, *Odebenus rosmanus divergens*, *Leptonychotes_weddelii*, *Canis lupus*, *Oryctolagus cuniculus* were removed. "
   ]
  },
  {
   "cell_type": "code",
   "execution_count": null,
   "id": "2295a4e9-fd46-4f25-af7b-fc687efcfabe",
   "metadata": {},
   "outputs": [],
   "source": [
    "python3 scripts/python/main/rename.py data/species_tree.tree results/maf_sequence_full_hsa_mir_605/ results/alignments1_hsa_mir_605/ results/alignments1_hsa_mir_605/"
   ]
  },
  {
   "cell_type": "markdown",
   "id": "b46f3033-72ee-4862-a986-2b775b8b1c17",
   "metadata": {},
   "source": [
    "Align sequences."
   ]
  },
  {
   "cell_type": "code",
   "execution_count": null,
   "id": "e6fadf02-b608-4ec2-b619-ab189d77e3ff",
   "metadata": {},
   "outputs": [],
   "source": [
    "python3 scripts/python/main/alignments1.py results/alignments1_hsa_mir_605/ results/alignments1_hsa_mir_605/ results/alignments1_hsa_mir_605/ ENSG00000207813"
   ]
  },
  {
   "cell_type": "markdown",
   "id": "bb81c980-f7d2-46d6-a889-ed82b431643c",
   "metadata": {},
   "source": [
    "Alignment was cut from sites 316 and 530. The sequence between these was analysed."
   ]
  },
  {
   "cell_type": "code",
   "execution_count": null,
   "id": "7c70d768-b819-4a89-8ef7-6d72f04bde94",
   "metadata": {},
   "outputs": [],
   "source": [
    "python3 scripts/python/main/run_fpa.py  ENSG00000207813 results/fpa_hsa_mir_605/ results/alignments2_hsa_mir_605/ results/alignments2_hsa_mir_605/"
   ]
  },
  {
   "cell_type": "markdown",
   "id": "c933fd73-7ba5-4d49-a520-fa4e0c82dc43",
   "metadata": {},
   "source": [
    "Predict secondary structures."
   ]
  },
  {
   "cell_type": "code",
   "execution_count": null,
   "id": "458ffa64-535d-4206-9a3d-a83bf16988fd",
   "metadata": {},
   "outputs": [],
   "source": [
    "python3 scripts/python/main/predict_structures.py results/alignments2_hsa_mir_605/ results/structures_hsa_mir_605/"
   ]
  },
  {
   "cell_type": "markdown",
   "id": "90648495-44e0-4ac4-bd17-19197a22d203",
   "metadata": {},
   "source": [
    "Draw figure."
   ]
  },
  {
   "cell_type": "code",
   "execution_count": null,
   "id": "59bcd1fa-d3fa-4370-aaa1-ef46fe32da38",
   "metadata": {},
   "outputs": [],
   "source": [
    "python scripts/python/main/draw_figs_from_database_hsa_mir_605.py results/fig_hsa_mir_605/ results/alignments2_hsa_mir_605/ results/alignments2_hsa_mir_605/ results/structures_hsa_mir_605/ data/210420_microRNAs_loc.txt data/microRNA_products.txt"
   ]
  },
  {
   "cell_type": "markdown",
   "id": "7bc8e581-0a8d-4b86-897e-e267bc4c2e5e",
   "metadata": {},
   "source": [
    " "
   ]
  },
  {
   "cell_type": "markdown",
   "id": "23186ba0-a553-49b2-887b-c2c2e3122454",
   "metadata": {},
   "source": [
    "#### Create alignment for hsa-mir-3688"
   ]
  },
  {
   "cell_type": "markdown",
   "id": "0b80da1d-1567-40bc-8a91-58671a74ec1f",
   "metadata": {},
   "source": [
    "Download sequences"
   ]
  },
  {
   "cell_type": "code",
   "execution_count": null,
   "id": "3054a3b1-37d7-4bdb-b489-34c7d37c5d03",
   "metadata": {},
   "outputs": [],
   "source": [
    "python3 scripts/python/main/download_maf_alignment_hsa_mir_3688.py data/210420_microRNAs_loc.txt data/species_mammals.txt data/chr/ results/ucsc_seq_hsa_mir_3688/  results/maf_sequence_hsa_mir_3688/ results/sequence_info_hsa_mir_3688/"
   ]
  },
  {
   "cell_type": "markdown",
   "id": "194ad72b-d654-46be-ba89-6aa2eda84e53",
   "metadata": {},
   "source": [
    "Get continuous sequences"
   ]
  },
  {
   "cell_type": "code",
   "execution_count": null,
   "id": "4672d432-1219-4a60-a475-adf43cd04c81",
   "metadata": {},
   "outputs": [],
   "source": [
    "python3 scripts/python/main/continuous_sequences_hsa_mir_3688.py results/ucsc_seq_hsa_mir_3688/ data/species_mammals.txt results/sequence_info_hsa_mir_3688/"
   ]
  },
  {
   "cell_type": "markdown",
   "id": "ef40f551-bf28-4047-b524-7037c790b099",
   "metadata": {},
   "source": [
    "Pan troglodytes, Macaca mulatta and Sus scrofa were removed. "
   ]
  },
  {
   "cell_type": "code",
   "execution_count": null,
   "id": "095c68f3-83d5-4a0f-b2ae-b25c6e021cba",
   "metadata": {},
   "outputs": [],
   "source": [
    "python3 scripts/python/main/rename.py data/species_tree.tree results/maf_sequence_full_hsa_mir_3688/ results/alignments1_hsa_mir_3688/ results/alignments1_hsa_mir_3688/"
   ]
  },
  {
   "cell_type": "markdown",
   "id": "ac7e188f-5d2d-4ce9-8cbc-91820c211b27",
   "metadata": {},
   "source": [
    "Align sequences."
   ]
  },
  {
   "cell_type": "code",
   "execution_count": null,
   "id": "088fc2e7-e979-4605-acdd-47a43f027bab",
   "metadata": {},
   "outputs": [],
   "source": [
    "python3 scripts/python/main/alignments1.py results/alignments1_hsa_mir_3688/ results/alignments1_hsa_mir_3688/ results/alignments1_hsa_mir_3688/ ENSG00000264105"
   ]
  },
  {
   "cell_type": "markdown",
   "id": "8e59df41-daa5-4c72-8ea8-b786ac098c75",
   "metadata": {},
   "source": [
    "Alignment was cut from sites 7 and 340. The sequence between these indexes was analysed."
   ]
  },
  {
   "cell_type": "code",
   "execution_count": null,
   "id": "dafbbe55-3e99-4a8f-b0cd-b35d4b076faa",
   "metadata": {},
   "outputs": [],
   "source": [
    "python3 scripts/python/main/run_fpa.py  ENSG00000264105 results/fpa_hsa_mir_3688/ results/alignments2_hsa_mir_3688/ results/alignments2_hsa_mir_3688/"
   ]
  },
  {
   "cell_type": "markdown",
   "id": "cd8d96e4-ebe1-4c2c-9ae3-d9ec174010e1",
   "metadata": {},
   "source": [
    "Predict secondary structures."
   ]
  },
  {
   "cell_type": "code",
   "execution_count": null,
   "id": "a6f2448c-0172-4f6f-afc4-627cd979272a",
   "metadata": {},
   "outputs": [],
   "source": [
    "python3 scripts/python/main/predict_structures.py results/alignments2_hsa_mir_3688/ results/structures_hsa_mir_3688/"
   ]
  },
  {
   "cell_type": "markdown",
   "id": "7cd2ae7f-b52d-4aef-ac4e-ad26b149cf95",
   "metadata": {},
   "source": [
    "Draw figure"
   ]
  },
  {
   "cell_type": "code",
   "execution_count": null,
   "id": "967a51db-3b4e-429f-b5b5-5ad01a3a7afb",
   "metadata": {},
   "outputs": [],
   "source": [
    "python scripts/python/main/draw_figs_from_database_hsa_mir_3688.py results/fig_hsa_mir_3688/ results/alignments2_hsa_mir_3688/ results/alignments2_hsa_mir_3688/ results/structures_hsa_mir_3688/ data/210420_microRNAs_loc.txt data/microRNA_products.txt"
   ]
  },
  {
   "cell_type": "markdown",
   "id": "49fba149-5037-4160-8e6f-a8d6496982bd",
   "metadata": {},
   "source": [
    " "
   ]
  },
  {
   "cell_type": "markdown",
   "id": "0d879ba6-3056-412b-875a-8c15d5da55df",
   "metadata": {},
   "source": [
    "### Create a heatmap for identified TSM-associated microRNAs"
   ]
  },
  {
   "cell_type": "markdown",
   "id": "11b94817-d269-4e27-8920-9ab3790f5c62",
   "metadata": {},
   "source": [
    "Cut the sequences to match the pri-microRNA hairpin and predict the secondary structures."
   ]
  },
  {
   "cell_type": "code",
   "execution_count": null,
   "id": "7f4230a5-e713-495d-849f-b01bc607b479",
   "metadata": {},
   "outputs": [],
   "source": [
    "python3 scripts/python/main/minimum_free_energy_for_hairpins.py results/TSM_expl_in_microRNAs_full.txt results/alignments2/ results/hairpin_struct/ data/210420_microRNAs_loc.txt"
   ]
  },
  {
   "cell_type": "markdown",
   "id": "fac44a84-c9e2-4ecc-b809-54c5e8311274",
   "metadata": {},
   "source": [
    "Create a heatmap from free energies of microRNA loci in which TSM explains the full length microRNA (Nine unexplained bases in maximum). Merges species outside primates belonging to the same taxonomic group and picks the highest free energy. Taxonomic groups, which do not contain at least ten species are left out from the analysis. "
   ]
  },
  {
   "cell_type": "code",
   "execution_count": null,
   "id": "05c1d31e-0ee5-4fa0-a466-d2fd2445485e",
   "metadata": {},
   "outputs": [],
   "source": [
    "python3 scripts/python/main/heatmap_merge_species_minimum.py results/TSM_expl_in_microRNAs_full.txt data/species_tree.tree results/alignments2/ results/hairpin_struct/  results/TSM_microRNA_heatmap_merge_minimum.svg results/TSM_microRNA_heatmap_merge.tree"
   ]
  },
  {
   "cell_type": "markdown",
   "id": "1b6478bd-51ce-4be2-852d-35679cb70adc",
   "metadata": {},
   "source": [
    "Draw a heatmap containing all the species. Taxa are not merged. Also in this one only fully explained microRNAs are included."
   ]
  },
  {
   "cell_type": "code",
   "execution_count": null,
   "id": "754888de-d2ea-498b-b1ed-289080d7036a",
   "metadata": {},
   "outputs": [],
   "source": [
    "python3 scripts/python/main/heatmap_free_energy.py results/TSM_expl_in_microRNAs_full.txt data/species_tree.tree results/alignments2/ results/hairpin_struct/  results/TSM_microRNA_heatmap_merge_minimum_all.svg results/TSM_microRNA_heatmap_merge_all.tree "
   ]
  },
  {
   "cell_type": "markdown",
   "id": "1530d6ae-2ac2-4a75-a057-15df7bf28a2d",
   "metadata": {},
   "source": [
    "\n",
    "### Draw genomic context for TSM-associated microRNA genes\n"
   ]
  },
  {
   "cell_type": "markdown",
   "id": "8e793203-98eb-4568-a670-2943d9043c9b",
   "metadata": {},
   "source": [
    "Collect information on the transposons within 300,000 bases around the microRNAs loci."
   ]
  },
  {
   "cell_type": "code",
   "execution_count": null,
   "id": "9ec5b564-f0b4-4bb8-968b-bbc4ae62d531",
   "metadata": {},
   "outputs": [],
   "source": [
    "python3 scripts/python/main/identify_transposons_in_microRNAs.py results/TSM_expl_in_microRNAs.txt data/hg38.fa.out data/ results/TSM_expl_in_microRNAs.txt"
   ]
  },
  {
   "cell_type": "markdown",
   "id": "49657796-0fd1-4f51-a62c-f1605c7ce67c",
   "metadata": {},
   "source": [
    "Collect information on genes within +/-50,000 bases around microRNA genes and create a shorter gff3 file. Create a separate file 'transcript_symbols.txt', where Ensembl transcripts symbols are on left side column and gene symbols are on the right side column. "
   ]
  },
  {
   "cell_type": "code",
   "execution_count": null,
   "id": "24a994d7-17e1-42a1-9558-0054af33d75c",
   "metadata": {},
   "outputs": [],
   "source": [
    "python3 scripts/python/main/make_short_gff3.py"
   ]
  },
  {
   "cell_type": "markdown",
   "id": "fe1cc84f-1888-4a6e-934e-e82a961a1d6a",
   "metadata": {},
   "source": [
    "Visualize genomic context about the genomic context of the microRNAs."
   ]
  },
  {
   "cell_type": "code",
   "execution_count": null,
   "id": "efd2d0a0-2691-4749-98fb-2ea457c7154d",
   "metadata": {},
   "outputs": [],
   "source": [
    "Rscript scripts/R/draw_gene_figs_spescase2.R"
   ]
  },
  {
   "cell_type": "markdown",
   "id": "896ed333-bc66-4546-ad8e-d47da7fc5397",
   "metadata": {},
   "source": [
    " "
   ]
  },
  {
   "cell_type": "markdown",
   "id": "09517c91-9da8-4cad-9695-897353ca1393",
   "metadata": {},
   "source": [
    "## Identification of TSMs within mouse microRNA genes"
   ]
  },
  {
   "cell_type": "markdown",
   "id": "6494162e-9928-4456-9e52-71c1c5cf54da",
   "metadata": {},
   "source": [
    "The coordinates of the mouse pri-miRNAs and their corresponding prodcuts were downloaded from the MiRBase https://mirbase.org/download/mmu.gff3 (on 26th Sep 2023; the version mm10). As the genomic alignments were downloaded from Ensembl the coordinates were parsed and lifted over from mm10 to mm39."
   ]
  },
  {
   "cell_type": "code",
   "execution_count": 1,
   "id": "7359f8b4-5d01-45c4-b66e-b31fa848ece5",
   "metadata": {
    "tags": []
   },
   "outputs": [
    {
     "name": "stdout",
     "output_type": "stream",
     "text": [
      "Traceback (most recent call last):\n",
      "  File \"scripts/python/main/parse_mouse_coord.py\", line 1, in <module>\n",
      "    from liftover import get_lifter\n",
      "ModuleNotFoundError: No module named 'liftover'\n"
     ]
    },
    {
     "ename": "",
     "evalue": "1",
     "output_type": "error",
     "traceback": []
    }
   ],
   "source": [
    "python3 scripts/python/main/parse_mouse_coord.py data/mmu.gff3"
   ]
  },
  {
   "cell_type": "markdown",
   "id": "a88e80fd-b9cf-4cf1-8de0-5ed0f30cc9eb",
   "metadata": {},
   "source": [
    "The genome alignments (EPO_EXTENDED) and the corresponding phylogenetic trees of the microRNA loci (+/-50 bases)for murinae taxa were downloaded from the Ensembl. Downloaded on the 27th September 2023."
   ]
  },
  {
   "cell_type": "code",
   "execution_count": null,
   "id": "9faf8939-f03f-49e3-9224-aa8881b0d60a",
   "metadata": {},
   "outputs": [],
   "source": [
    "python3 scripts/python/main/ensembl_miR_alignments_EXT.py results/mouse_mirbasedb2/mouse_mir_coords.txt mus_musculus murinae results/mouse_mirbasedb2/Ensembl_seq/ results/mouse_mirbasedb2/Ensembl_seq/"
   ]
  },
  {
   "cell_type": "markdown",
   "id": "241002b5-2d7d-4124-8115-7a8509a7d51e",
   "metadata": {},
   "source": [
    "The files are copied to results/mouse_mirbasedb/alignments1/. As the headings of the sequences and trees do not match the '_+_', '_-_' in the alignments and [+] and [-] in the trees need be replaced. "
   ]
  },
  {
   "cell_type": "code",
   "execution_count": null,
   "id": "84a55a33-2142-414c-b226-ddded5c892fe",
   "metadata": {},
   "outputs": [],
   "source": [
    "cp results/mouse_mirbasedb2/Ensembl_seq/* results/mouse_mirbasedb2/alignments1/."
   ]
  },
  {
   "cell_type": "code",
   "execution_count": null,
   "id": "8454ad71-436d-4671-8da4-39effaa7405f",
   "metadata": {},
   "outputs": [],
   "source": [
    "sed 's/\\_+\\_//g' results/mouse_mirbasedb2/alignments1/*"
   ]
  },
  {
   "cell_type": "code",
   "execution_count": null,
   "id": "e15a91d1-14bf-4107-960d-4bc58023654a",
   "metadata": {},
   "outputs": [],
   "source": [
    "sed 's/\\_-\\_//g' results/mouse_mirbasedb2/alignments1/*"
   ]
  },
  {
   "cell_type": "code",
   "execution_count": null,
   "id": "b86577df-8684-4bd1-bf27-9605b306d240",
   "metadata": {},
   "outputs": [],
   "source": [
    "sed 's/\\[//g' results/mouse_mirbasedb2/alignments1/*"
   ]
  },
  {
   "cell_type": "code",
   "execution_count": null,
   "id": "b79cbe78-ab21-4661-bf92-4418b97eb054",
   "metadata": {},
   "outputs": [],
   "source": [
    "sed 's/\\]//g' results/mouse_mirbasedb2/alignments1/*"
   ]
  },
  {
   "cell_type": "code",
   "execution_count": null,
   "id": "c1b56cb3-3986-4816-89e2-8d2cc23911a8",
   "metadata": {},
   "outputs": [],
   "source": [
    "sed 's/\\+//g' results/mouse_mirbasedb2/alignments1/*"
   ]
  },
  {
   "cell_type": "code",
   "execution_count": null,
   "id": "d832266f-e0c2-4f5f-93ec-087a93067c90",
   "metadata": {},
   "outputs": [],
   "source": [
    "sed 's/\\+//g' results/mouse_mirbasedb2/alignments1/*"
   ]
  },
  {
   "cell_type": "markdown",
   "id": "4b136622-eab4-42f3-a5bd-5e4ae8fc0584",
   "metadata": {},
   "source": [
    "The sequences were realigned similarly to the human sequences."
   ]
  },
  {
   "cell_type": "code",
   "execution_count": null,
   "id": "773cf19c-3731-4d04-9f06-fd977ff7099d",
   "metadata": {},
   "outputs": [],
   "source": [
    "sbash scripts/bash/alignments1_mouse_mirgenedb.sh"
   ]
  },
  {
   "cell_type": "markdown",
   "id": "1a08e37d-5848-4cd9-b276-e53902f7626a",
   "metadata": {
    "tags": []
   },
   "source": [
    "Sequence quality is checked. Sequences with more than 10 'N' or where the sequence identity is less than 0.5 (number of identical bases/length of alignment) or the identity is less than 0.6 (number of identical bases/the length of the non-mouse_sequence) are rejected. In addition, the number of extra bases around the microRNA locus is checked.  "
   ]
  },
  {
   "cell_type": "code",
   "execution_count": null,
   "id": "ac3d5ee5-9a0c-439f-b72e-a209b3d68e75",
   "metadata": {},
   "outputs": [],
   "source": [
    "python3 scripts/python/main/clean_and_copy_seqs_ens.py results/mouse_mirbasedb2/alignments2/ results/mouse_mirbasedb2/alignments1/ results/mouse_mirbasedb2/microRNA_mir_info.txt mus_muscul"
   ]
  },
  {
   "cell_type": "markdown",
   "id": "034d3222-d52a-4808-bf9b-6c2c37442ba9",
   "metadata": {},
   "source": [
    "Sequences that passed the quality check are realigned and the ancestral sequences are inferred."
   ]
  },
  {
   "cell_type": "code",
   "execution_count": null,
   "id": "16a57963-140d-46a0-aeab-051a4cbfd09c",
   "metadata": {},
   "outputs": [],
   "source": [
    " bash scripts/bash/alignments2_mouse_mirgenedb.sh"
   ]
  },
  {
   "cell_type": "markdown",
   "id": "d92bf226-e6e3-4c0d-88a1-b9c8d10b7b8c",
   "metadata": {},
   "source": [
    "The phylogenetic trees are systematically screened and each parent and child node sequence pairs is run with the FPA to identify TSM cases. "
   ]
  },
  {
   "cell_type": "code",
   "execution_count": null,
   "id": "07a3c213-5b0a-4fca-b6cc-53abbbafc629",
   "metadata": {},
   "outputs": [],
   "source": [
    "bash scripts/bash/run_fpa_microRNA_mousedb.sh"
   ]
  },
  {
   "cell_type": "markdown",
   "id": "6937adb3-ca3a-4fbb-bd44-699ea7b660ab",
   "metadata": {
    "jupyter": {
     "outputs_hidden": true
    },
    "tags": []
   },
   "source": [
    "The information for the identified TSMs is collected and stored in to the mongo database. However, compared to the human data, the TSMs were allowed to locate between the root and its child sequence and for this reason the quality check for the inferred ancestral sequences was not performed. First a directory is created for the fpa solutions."
   ]
  },
  {
   "cell_type": "code",
   "execution_count": null,
   "id": "637299de-35b0-4f6c-8b27-2323d3d98ea9",
   "metadata": {},
   "outputs": [],
   "source": [
    "mkdir results/mouse_mirbasedb2/fpa_solutions/"
   ]
  },
  {
   "cell_type": "code",
   "execution_count": null,
   "id": "2e198339-3012-4d88-be19-b75a92b01c57",
   "metadata": {
    "tags": []
   },
   "outputs": [],
   "source": [
    " python scripts/python/main/TSM_information_microRNAs_mouse.py results/mouse_mirbasedb2/fpa_results/ mousedb2_TSM  results/mouse_mirbasedb2/alignments2/  results/mouse_mirbasedb2/alignments2/  results/mouse_mirbasedb2/microRNA_mir_info.txt  results/mouse_mirbasedb2/fpa_solutions/ mus_musculus"
   ]
  },
  {
   "cell_type": "markdown",
   "id": "3b12e8a0-557b-4f39-8464-a2e2f00ad4ff",
   "metadata": {},
   "source": [
    "Secondary structures were predicted for the identified TSM cases (i.e. parent, query and sister nodes)"
   ]
  },
  {
   "cell_type": "code",
   "execution_count": null,
   "id": "c1dd603f-33d3-4314-8b92-afe3c4c8a632",
   "metadata": {},
   "outputs": [],
   "source": [
    "thon3 scripts/python/main/predict_structures_mouse.py results/mouse_mirbasedb2/alignments2/ results/mouse_mirbasedb2/structures/"
   ]
  },
  {
   "cell_type": "markdown",
   "id": "bbd061a4-a7cf-4dc0-bd14-75eaf8d8b70c",
   "metadata": {},
   "source": [
    "TSM cases of at least 15 bases long with at least 5 mismatches were collected and sequence alignments with phylogenetic, pri-miRNA and microRNA product information were provided. "
   ]
  },
  {
   "cell_type": "code",
   "execution_count": null,
   "id": "497f8267-bc3c-4c5e-be7a-e18470a28a63",
   "metadata": {},
   "outputs": [],
   "source": [
    " python3 scripts/python/main/draw_figs_mirgenedb.py results/mouse_mirbasedb2/figs/ mousedb2_TSM results/mouse_mirbasedb2/alignments2/ results/mouse_mirbasedb2/alignments2/ results/mouse_mirbasedb2/structures/  results/mouse_mirbasedb2/microRNA_mir_info.txt results/mouse_mirbasedb2/microRNA_mir_info.txt  mus_musculus"
   ]
  },
  {
   "cell_type": "markdown",
   "id": "03e520fc-9b52-40e8-a65a-b174bc10205e",
   "metadata": {},
   "source": [
    "The secondary structures for the data S2 were drawn."
   ]
  },
  {
   "cell_type": "code",
   "execution_count": null,
   "id": "32ebb4d8-e303-4bb1-9f08-43c617b1be0a",
   "metadata": {},
   "outputs": [],
   "source": [
    "python3 scripts/python/main/draw_structures_mouse.py results/mouse_mirbasedb2/struct_figs/ results/mouse_mirbasedb2/structures/ mousedb2_TSM results/mouse_mirbasedb2/alignments2/ mus_musculus 6"
   ]
  },
  {
   "cell_type": "markdown",
   "id": "76a389f4-69e7-4e53-9174-0fcb63a0826c",
   "metadata": {},
   "source": [
    "The gene names close the identified TSMs in mouse miRNA loci were parsed. The original gff3 file was GRCm39.109.gff3, downloaded from Ensembl: https://ftp.ensembl.org/pub/release-109/gff3/mus_musculus/Mus_musculus.GRCm39.109.gff3.gz"
   ]
  },
  {
   "cell_type": "code",
   "execution_count": null,
   "id": "237565a5-3ff5-44d1-96ad-0173c4e3cb02",
   "metadata": {},
   "outputs": [],
   "source": [
    "python3 scripts/python/main/make_short_gff3_mouse.py > results/mouse_mmirbasedb2/shortened_mouse.gff3"
   ]
  },
  {
   "cell_type": "markdown",
   "id": "95348ccf-a140-45e9-8c5b-2f6d169abb50",
   "metadata": {},
   "source": [
    "The output file of the RepeatMasker for the mouse genome v.mm39 was downloaded from the UCSC database https://hgdownload.soe.ucsc.edu/goldenPath/mm39/bigZips/mm39.fa.out.gz. The transposons within +/- 50,000 bases from the TSM-associated miRNAs. Identifiers_mir.txt contains coordinate information only for the TSM-associated pri-miRNAs."
   ]
  },
  {
   "cell_type": "code",
   "execution_count": null,
   "id": "d1c961a1-e2bc-4642-aecc-6b676f3a6645",
   "metadata": {},
   "outputs": [],
   "source": [
    "python3 scripts/python/main/identify_transposons_in_microRNAs.py results/mouse_mirbasedb2/identifiers_mir.txt  data_revision/mm39.fa.out results/mouse_mirbasedb2/ results/mouse_mirbasedb2/identifiers_mir.txt"
   ]
  },
  {
   "cell_type": "markdown",
   "id": "7743e740-7523-4ebf-9ede-afa456ae9b0d",
   "metadata": {},
   "source": [
    "Finally figures for the genomic context were drawn. To run this script the bioconductor, use conda environment bioconductor.yml."
   ]
  },
  {
   "cell_type": "code",
   "execution_count": null,
   "id": "4d96356a-deb2-43bb-81f3-dc1346ce7238",
   "metadata": {},
   "outputs": [],
   "source": [
    "Rscript scripts/R/draw_gene_figs_spescase2_mouse.R"
   ]
  },
  {
   "cell_type": "markdown",
   "id": "7f1f237b-3eeb-4c05-9341-a14dcc23a69e",
   "metadata": {
    "tags": []
   },
   "source": [
    "## Identification of TSMs across gene regions"
   ]
  },
  {
   "cell_type": "markdown",
   "id": "06e7d9bf-baa7-4ca6-a775-b3b09c976d36",
   "metadata": {},
   "source": [
    "Identify non-coding and coding gene coordinates (\"ncRNA_gene and gene) from the human genome (.gff3 file). Merge overlapping genes and split gene regions into 1000 bases long chunks with 25 extra bases at both ends --> 50 bases overlap. "
   ]
  },
  {
   "cell_type": "code",
   "execution_count": null,
   "id": "bdcab13a-eef5-479a-a76e-e7e8c57eb14b",
   "metadata": {},
   "outputs": [],
   "source": [
    "python scripts/python/main/get_gene_chunks.py data/Homo_sapiens.GRCh38.105.gff3 results/all_genes_chunks.txt"
   ]
  },
  {
   "cell_type": "markdown",
   "id": "6da645c6-965e-49ce-b1e7-dcfadfa55c9f",
   "metadata": {},
   "source": [
    "Extract sequences for sequence chunks from .maf alignment. Extract only those sequences, which represent at least 80% sequence identity to some other sequence in the data set and are at least 100 bases long."
   ]
  },
  {
   "cell_type": "code",
   "execution_count": null,
   "id": "ac6251b1-f508-43a1-9eb4-34f127309784",
   "metadata": {
    "tags": []
   },
   "outputs": [],
   "source": [
    "python3 scripts/python/main/download_alignments_maf3_all_genes.py results/all_genes_chunks.txt data/species_mammals.txt data/chr/ results/ucsc_seq_all/ results/maf_sequence_all/ results/sequence_info_all/"
   ]
  },
  {
   "cell_type": "markdown",
   "id": "372a8e09-09f1-4df6-a91a-b42e85200aa5",
   "metadata": {},
   "source": [
    "Get the full length sequences. "
   ]
  },
  {
   "cell_type": "code",
   "execution_count": null,
   "id": "86825ae2-1134-47c4-bb58-38393e2e339a",
   "metadata": {},
   "outputs": [],
   "source": [
    "bash scripts/bash/all_full_length_sequences.sh"
   ]
  },
  {
   "cell_type": "markdown",
   "id": "81a82bf2-a86d-4d84-833f-cdb4bed7392e",
   "metadata": {},
   "source": [
    "Create a tree for each alignment. Rename leaf nodes to match the alignment titles and remove those leaves that are not included."
   ]
  },
  {
   "cell_type": "code",
   "execution_count": null,
   "id": "34cf3fac-6018-4ad5-b956-4cea2be64307",
   "metadata": {},
   "outputs": [],
   "source": [
    "python3 scripts/python/main/rename.py data/species_tree.tree results/maf_sequence_full_all/ results/alignments1_all/ results/alignments1_all/"
   ]
  },
  {
   "cell_type": "markdown",
   "id": "485396e5-4a4f-48d4-8e4e-816e555e2d01",
   "metadata": {},
   "source": [
    "Align sequences with pagan."
   ]
  },
  {
   "cell_type": "code",
   "execution_count": null,
   "id": "38604b24-f2e0-47c7-bf12-07cc4c4de2de",
   "metadata": {},
   "outputs": [],
   "source": [
    "bash scripts/bash/run_alignments1_all.sh"
   ]
  },
  {
   "cell_type": "markdown",
   "id": "ccca64f2-084d-46e3-8a52-8eafd66a1dd3",
   "metadata": {},
   "source": [
    "Go through alignments and remove sequences, which more than 30% shorter in either end of the sequence if compared to the human sequence, and if sequence contains more than 50N's, or if the sequence identity between human and target sequence is less than 30% (from the length of the target sequence matches/length of a target sequence)."
   ]
  },
  {
   "cell_type": "code",
   "execution_count": null,
   "id": "e8606c04-dcea-4f77-bbaf-6209fe5a0d66",
   "metadata": {},
   "outputs": [],
   "source": [
    "bash scripts/bash/copy_and_clean_seqs_als.sh"
   ]
  },
  {
   "cell_type": "markdown",
   "id": "8119172a-a1b3-4f35-b0e7-05d7536a5f1f",
   "metadata": {},
   "source": [
    "Realign sequences and predict ancestral sequences"
   ]
  },
  {
   "cell_type": "code",
   "execution_count": null,
   "id": "9a512d6e-5ff1-45fa-8cc4-ad2283f571ad",
   "metadata": {},
   "outputs": [],
   "source": [
    "bash scripts/bash/run_alignments2_all.sh >& all_align.log &"
   ]
  },
  {
   "cell_type": "markdown",
   "id": "28785cab-d5da-49b5-acb8-0c2e0525287e",
   "metadata": {},
   "source": [
    "Run FPA2 to aligned sequences."
   ]
  },
  {
   "cell_type": "code",
   "execution_count": null,
   "id": "21124c5f-d699-4f91-880b-0b4689bb8b1b",
   "metadata": {},
   "outputs": [],
   "source": [
    "bash scripts/bash/all_genes_fpa.sh"
   ]
  },
  {
   "cell_type": "markdown",
   "id": "3c0d3f98-ea63-47d4-98ae-1463af0559bc",
   "metadata": {},
   "source": [
    "Quality control for TSM cases. The reference can be locate in root. The quality control is run between the target site of a reference-sister node (80%) and source site of reference-sister (80%) and reference-query (80%). The source site is ok, if either query or sister passes the control. Also, the query target and children of a query (if any) are compared (80%, one of the children has to pass)"
   ]
  },
  {
   "cell_type": "code",
   "execution_count": null,
   "id": "cf8b6980-1d17-481b-9f90-c96207ee62a7",
   "metadata": {},
   "outputs": [],
   "source": [
    "python3 scripts/python/main/TSM_information_all_genes.py results/fpa_all/ fpa_all results/alignments2_all/ results/alignments2_all/ results/fpa_solutions_all/"
   ]
  },
  {
   "cell_type": "markdown",
   "id": "b8c21fc3-325b-4436-b878-fd08ef5bef52",
   "metadata": {},
   "source": [
    "Identify TSMs, which target and source sites overlap less than 50% with simple repeats. The simple repeats are identified by running the Dustmasker for each chunk. Write those into a .bed file."
   ]
  },
  {
   "cell_type": "code",
   "execution_count": null,
   "id": "4657d1f1-0948-458d-9024-da42bb742599",
   "metadata": {},
   "outputs": [],
   "source": [
    "python3 scripts/python/main/get_TSM_coordinates_repeats.py fpa_all TSMs results/alignments2_all/ results/all_genes_TSM_bedfiles/all_TSMs_no_repeats2.bed results/maf_sequence_full_all/"
   ]
  },
  {
   "cell_type": "markdown",
   "id": "bbf509da-8ca1-4231-9ddc-3ef17ae489fe",
   "metadata": {},
   "source": [
    "Predict secondary structures for the TSM cases (between target and source sites) for TSMs which do not overlap with a simple repeat, compare structures and classify the impact of a TSM on a secondary structure. Collects information on exon/intron/UTR and where TSM has happened in a phylogenetic tree."
   ]
  },
  {
   "cell_type": "code",
   "execution_count": null,
   "id": "54bf6702-9b09-4ad5-ac14-2cb3280bd3ab",
   "metadata": {},
   "outputs": [],
   "source": [
    "python3 scripts/python/main/TSM_structural_analysis.py  results/all_genes_TSM_bedfiles/all_TSMs_no_repeats2.bed fpa_all TSMs results/all_genes_TSMs_structures2/ results/alignments2_all/ data/species_tree.tree results/genome_annotations/ &> results/TSM_all_genes_analysis2.txt &\n"
   ]
  },
  {
   "cell_type": "markdown",
   "id": "78d4eb51-fe7f-46fc-9967-d40b7b678258",
   "metadata": {},
   "source": [
    "## TSMs in human variation data and their association with TEs and genomic features"
   ]
  },
  {
   "cell_type": "markdown",
   "id": "1942688a-47cb-48c0-9669-a335d090d1c7",
   "metadata": {},
   "source": [
    "As the TSMs coordinates may be partially located in masked regions. The TSM coordinates are screened against variant cluster coordinates, which have to be located completely in unmasked regions. Overlaps between the variant clusters and TSMs are identified and the overlap coordinates are recorded."
   ]
  },
  {
   "cell_type": "code",
   "execution_count": null,
   "id": "6fba3bec-de43-47b0-9a29-c043abdbf254",
   "metadata": {},
   "outputs": [],
   "source": [
    "python3 scripts/python/main/identify_unmasked_variant_regions_in_TSMs.py  data/tsms_unmasked_merged.txt data/tsms_unmasked_merged.txt results/unmasked_variant_reg_tsms.txt"
   ]
  },
  {
   "cell_type": "markdown",
   "id": "480ab66f-daed-42ca-8880-1036d1eb3cf5",
   "metadata": {},
   "source": [
    "Run 100 replicates of random coordinates from unmasked regions, corresponding to the structure of original TSMs."
   ]
  },
  {
   "cell_type": "code",
   "execution_count": null,
   "id": "126cc246-ad2f-420e-b374-5250b86dee10",
   "metadata": {},
   "outputs": [],
   "source": [
    "bash scripts/bash/run_background_corrected.sh"
   ]
  },
  {
   "cell_type": "markdown",
   "id": "cc6fed9f-f3f9-4e97-9a6c-9036ed4dc99d",
   "metadata": {},
   "source": [
    "Run gene region enrichment analysis"
   ]
  },
  {
   "cell_type": "code",
   "execution_count": null,
   "id": "1e735ad3-6337-4850-823a-9ba1ce03e802",
   "metadata": {},
   "outputs": [],
   "source": [
    "python3 scripts/python/main/full_genome_enrichment.py results/ results/genome_wide_background_corrected_tsms/ results/genome_annotations/ 3709 370900 unmasked_variant_reg_tsms.txt background"
   ]
  },
  {
   "cell_type": "markdown",
   "id": "ac403458-a3a1-4117-b19d-b56579b19aba",
   "metadata": {},
   "source": [
    "Analyze correlation in distances between the transposons and TSMs "
   ]
  },
  {
   "cell_type": "markdown",
   "id": "a9e8f625-d7ba-432d-a0e2-3596da75c0dd",
   "metadata": {},
   "source": [
    "Sort TSM coordinates"
   ]
  },
  {
   "cell_type": "code",
   "execution_count": null,
   "id": "5c6b6aa8-ccdd-41b3-80cb-60aa20bcd830",
   "metadata": {},
   "outputs": [],
   "source": [
    "bedtools sort -i results/unmasked_variant_reg_tsms.txt > results/unmasked_variant_reg_tsms_sorted.txt"
   ]
  },
  {
   "cell_type": "markdown",
   "id": "3e01ed04-276a-4d0e-b8fb-726e61767b77",
   "metadata": {},
   "source": [
    "Distances between TSMs and different transposons"
   ]
  },
  {
   "cell_type": "code",
   "execution_count": null,
   "id": "ecbe6302-e9f1-4d6c-a1e0-1439a916e6ed",
   "metadata": {},
   "outputs": [],
   "source": [
    "bedtools closest -a results/unmasked_variant_reg_tsms_sorted.txt -b data/hg38_SINE.fa.out -D b > results/distance_unmasked_tsms_variants_sine.txt"
   ]
  },
  {
   "cell_type": "code",
   "execution_count": null,
   "id": "c6957993-2676-4341-8501-53c2db810afd",
   "metadata": {},
   "outputs": [],
   "source": [
    "bedtools closest -a results/unmasked_variant_reg_tsms_sorted.txt -b data/hg38_LINE.fa.out -D b > results/distance_unmasked_tsms_variants_line.txt"
   ]
  },
  {
   "cell_type": "code",
   "execution_count": null,
   "id": "b812a4e3-7e4f-4051-9771-3fb7ed899e70",
   "metadata": {},
   "outputs": [],
   "source": [
    "bedtools closest -a results/unmasked_variant_reg_tsms_sorted.txt -b data/hg38_LTR.fa.out -D b > results/distance_unmasked_tsms_variants_ltr.txt"
   ]
  },
  {
   "cell_type": "markdown",
   "id": "8a87934a-e216-4200-9a57-41c601a3c77d",
   "metadata": {},
   "source": [
    "Compute distances between random genome coordinates and transposons (bedtools)"
   ]
  },
  {
   "cell_type": "code",
   "execution_count": null,
   "id": "8474ad25-889e-4c8f-b14c-d71608bf72f4",
   "metadata": {},
   "outputs": [],
   "source": [
    "bash scripts/bash/run_bedtools_corrected_tsms.sh"
   ]
  },
  {
   "cell_type": "markdown",
   "id": "7f3ab4d8-7d8f-49af-ade6-781c05ea510a",
   "metadata": {},
   "source": [
    "Make plots"
   ]
  },
  {
   "cell_type": "code",
   "execution_count": null,
   "id": "6bcea8e4-9652-4287-a28b-89d5d4b9f537",
   "metadata": {},
   "outputs": [],
   "source": [
    "Rscript scripts/R/boxplot.R"
   ]
  },
  {
   "cell_type": "code",
   "execution_count": null,
   "id": "d74852f2-cdf5-4b5d-a34c-5bf1305f9c79",
   "metadata": {},
   "outputs": [],
   "source": [
    "Rscript scripts/R/boxplot_sine.R"
   ]
  },
  {
   "cell_type": "code",
   "execution_count": null,
   "id": "9d642258-2426-4561-94de-4dc9b991bdd5",
   "metadata": {},
   "outputs": [],
   "source": [
    "Rscript scripts/R/boxplot_ltr.R"
   ]
  }
 ],
 "metadata": {
  "kernelspec": {
   "display_name": "Bash",
   "language": "bash",
   "name": "bash"
  },
  "language_info": {
   "codemirror_mode": "shell",
   "file_extension": ".sh",
   "mimetype": "text/x-sh",
   "name": "bash"
  },
  "toc-showmarkdowntxt": false
 },
 "nbformat": 4,
 "nbformat_minor": 5
}
